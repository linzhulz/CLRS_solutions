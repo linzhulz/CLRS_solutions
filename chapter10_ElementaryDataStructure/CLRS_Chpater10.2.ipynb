{
 "cells": [
  {
   "cell_type": "markdown",
   "metadata": {},
   "source": [
    "references: http://interactivepython.org/runestone/static/pythonds/BasicDS/ImplementinganUnorderedListLinkedLists.html\n",
    "\n",
    "'One of the hardest parts about becoming a web developer without a CS degree (aside from the obvious bits) is learning data structures and algorithms on your own.'"
   ]
  },
  {
   "cell_type": "markdown",
   "metadata": {},
   "source": [
    "### 10.2-1 Single linked list "
   ]
  },
  {
   "cell_type": "code",
   "execution_count": 91,
   "metadata": {
    "collapsed": false
   },
   "outputs": [],
   "source": [
    "#!/usr/bin/env python\n",
    "# coding=utf-8\n",
    "\n",
    "class Node:\n",
    "    def __init__(self, value = None, next_node = None):\n",
    "        self.value = value\n",
    "        self.next_node = next_node\n",
    "\n",
    "    def getData(self):\n",
    "        return self.value\n",
    "\n",
    "    def getNext(self):\n",
    "        return self.next_node\n",
    "\n",
    "    def setNext(self, new_next):\n",
    "        self.next_node = new_next\n",
    "\n",
    "class SingleLinkedList:\n",
    "    def __init__(self, head = None):\n",
    "        self.head = head\n",
    "\n",
    "    def insert(self, data):\n",
    "        new_node = Node(data)\n",
    "        new_node.setNext(self.head)\n",
    "        self.head = new_node\n",
    "        print self.head.getData()\n",
    "\n",
    "    def search(self, data):\n",
    "        current = self.head\n",
    "        found = False\n",
    "        while current and (found is False):\n",
    "            if current.getData() == data:\n",
    "                found = True\n",
    "            else:\n",
    "                current = current.getNext()\n",
    "        if current is None:\n",
    "            raise ValueError('Data is not in list')\n",
    "        return current\n",
    "\n",
    "    def delete(self, data):\n",
    "        current = self.head\n",
    "        previous = None\n",
    "        found = False\n",
    "        while current and (found is False):\n",
    "            if current.getData() == data:\n",
    "                found = True\n",
    "            else:\n",
    "                previous = current\n",
    "                current = current.getNext()\n",
    "        if current is None:\n",
    "            raise ValueError('Data is not in list')\n",
    "        if previous is None:\n",
    "            self.head = current.getNext()\n",
    "        else:\n",
    "            previous.setNext(current.getNext())\n",
    "        return current.getData()"
   ]
  },
  {
   "cell_type": "code",
   "execution_count": 92,
   "metadata": {
    "collapsed": false
   },
   "outputs": [
    {
     "name": "stdout",
     "output_type": "stream",
     "text": [
      "1\n",
      "2\n",
      "3\n"
     ]
    },
    {
     "data": {
      "text/plain": [
       "1"
      ]
     },
     "execution_count": 92,
     "metadata": {},
     "output_type": "execute_result"
    }
   ],
   "source": [
    "l = SingleLinkedList(None)\n",
    "l.insert(1)\n",
    "l.insert(2)\n",
    "l.insert(3)\n",
    "l.search(1)\n",
    "l.delete(1)\n",
    "# l.search(1)"
   ]
  },
  {
   "cell_type": "markdown",
   "metadata": {},
   "source": [
    "### 10.2-2 Stack using single linked list "
   ]
  },
  {
   "cell_type": "code",
   "execution_count": 89,
   "metadata": {
    "collapsed": true
   },
   "outputs": [],
   "source": [
    "#!/urs/bin/env python\n",
    "# coding=utf-8\n",
    "\n",
    "class Node:\n",
    "    def __init__(self, data = None, next_node = None):\n",
    "        self.data = data\n",
    "        self.next_node = next_node\n",
    "\n",
    "    def getData(self):\n",
    "        return self.data\n",
    "\n",
    "    def getNext(self):\n",
    "        return self.next_node\n",
    "\n",
    "    def setNext(self, new_next):\n",
    "        self.next_node = new_next\n",
    "\n",
    "class Stack:\n",
    "    def __init__(self):\n",
    "        self.head = None\n",
    "\n",
    "    def push(self, data):\n",
    "        new_node = Node(data)\n",
    "        new_node.setNext(self.head)\n",
    "        self.head = new_node\n",
    "\n",
    "    def pop(self):\n",
    "        if self.head is None:\n",
    "            raise Exception('underflow')\n",
    "        new_head = self.head.getNext()\n",
    "        data = self.head.getData()\n",
    "        self.head = new_head\n",
    "        return data"
   ]
  },
  {
   "cell_type": "code",
   "execution_count": 90,
   "metadata": {
    "collapsed": false
   },
   "outputs": [
    {
     "name": "stdout",
     "output_type": "stream",
     "text": [
      "2\n",
      "1\n"
     ]
    }
   ],
   "source": [
    "s = Stack()\n",
    "s.push(1)\n",
    "s.push(2)\n",
    "print s.pop()\n",
    "print s.pop()"
   ]
  },
  {
   "cell_type": "markdown",
   "metadata": {},
   "source": [
    "### 10.2-3 Queue using single linked list "
   ]
  },
  {
   "cell_type": "code",
   "execution_count": 135,
   "metadata": {
    "collapsed": false
   },
   "outputs": [
    {
     "name": "stdout",
     "output_type": "stream",
     "text": [
      "\n"
     ]
    }
   ],
   "source": [
    "class Node:\n",
    "    def __init__(self, data = None, next_node = None):\n",
    "        self.data = data\n",
    "        self.next_node = next_node\n",
    "\n",
    "    def getData(self):\n",
    "        return self.data\n",
    "\n",
    "    def getNext(self):\n",
    "        return self.next_node\n",
    "\n",
    "    def setNext(self, new_node):\n",
    "        self.next_node = new_node\n",
    "\n",
    "class Queue:\n",
    "    def __init__(self):\n",
    "        self.head = None\n",
    "        self.tail = None\n",
    "\n",
    "    def enqueue(self, data):\n",
    "        new_node = Node(data)\n",
    "        if self.head is None and self.tail is None:\n",
    "            self.head = new_node\n",
    "            self.tail = self.head\n",
    "        else:\n",
    "            self.head.setNext(new_node)\n",
    "            self.head = new_node\n",
    "#         print 'head after enqueue', self.head.getData()\n",
    "#         print 'tail after enqueue', self.tail.getData()\n",
    "#         print '##'\n",
    "\n",
    "    def dequeue(self):\n",
    "        if self.tail is None and self.head is None:\n",
    "            raise Exception('underflow')\n",
    "        data = self.tail.getData()\n",
    "        next = self.tail.getNext()\n",
    "        if next is None:\n",
    "            self.head = None\n",
    "        self.tail = next\n",
    "#         print 'head after dequeue', self.head.getData()\n",
    "#         print 'tail after dequeue', self.tail.getData()\n",
    "#         print 'dequeue', data\n",
    "#         print '##'\n",
    "        return data\n"
   ]
  },
  {
   "cell_type": "code",
   "execution_count": 141,
   "metadata": {
    "collapsed": false
   },
   "outputs": [
    {
     "name": "stdout",
     "output_type": "stream",
     "text": [
      "head after enqueue 1\n",
      "tail after enqueue 1\n",
      "##\n",
      "head after enqueue 2\n",
      "tail after enqueue 1\n",
      "##\n",
      "dequeue 1\n",
      "##\n",
      "dequeue 2\n",
      "##\n",
      "head after enqueue 3\n",
      "tail after enqueue 3\n",
      "##\n",
      "head after enqueue 4\n",
      "tail after enqueue 3\n",
      "##\n",
      "head after enqueue 5\n",
      "tail after enqueue 3\n",
      "##\n",
      "dequeue 3\n",
      "##\n"
     ]
    },
    {
     "data": {
      "text/plain": [
       "3"
      ]
     },
     "execution_count": 141,
     "metadata": {},
     "output_type": "execute_result"
    }
   ],
   "source": [
    "q = Queue()\n",
    "q.enqueue(1)\n",
    "q.enqueue(2)\n",
    "q.dequeue()\n",
    "q.dequeue()\n",
    "# q.dequeue()\n",
    "q.enqueue(3)\n",
    "q.enqueue(4)\n",
    "q.enqueue(5)\n",
    "q.dequeue()"
   ]
  },
  {
   "cell_type": "code",
   "execution_count": null,
   "metadata": {
    "collapsed": true
   },
   "outputs": [],
   "source": []
  },
  {
   "cell_type": "code",
   "execution_count": null,
   "metadata": {
    "collapsed": true
   },
   "outputs": [],
   "source": []
  }
 ],
 "metadata": {
  "kernelspec": {
   "display_name": "Python 2",
   "language": "python",
   "name": "python2"
  },
  "language_info": {
   "codemirror_mode": {
    "name": "ipython",
    "version": 2
   },
   "file_extension": ".py",
   "mimetype": "text/x-python",
   "name": "python",
   "nbconvert_exporter": "python",
   "pygments_lexer": "ipython2",
   "version": "2.7.12"
  }
 },
 "nbformat": 4,
 "nbformat_minor": 2
}
