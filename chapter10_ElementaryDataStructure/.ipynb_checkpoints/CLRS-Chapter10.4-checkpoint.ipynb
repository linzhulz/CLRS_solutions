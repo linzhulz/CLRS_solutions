{
 "cells": [
  {
   "cell_type": "code",
   "execution_count": null,
   "metadata": {
    "collapsed": true
   },
   "outputs": [],
   "source": [
    "import random\n",
    "import unittest"
   ]
  },
  {
   "cell_type": "markdown",
   "metadata": {},
   "source": [
    "### 10.4-2 Print with recursive O(n) "
   ]
  },
  {
   "cell_type": "code",
   "execution_count": null,
   "metadata": {
    "collapsed": true
   },
   "outputs": [],
   "source": [
    "class TreeNode:\n",
    "    def __init__(self, key, left = None, right = None):\n",
    "        self.key = key\n",
    "        self.left = left\n",
    "        self.right = right\n",
    "def printTree(node):\n",
    "    if node is not None:\n",
    "        print node.key\n",
    "        printTree(node.left)\n",
    "        printTree(node.right)"
   ]
  },
  {
   "cell_type": "code",
   "execution_count": null,
   "metadata": {
    "collapsed": true
   },
   "outputs": [],
   "source": [
    "node = TreeNode(1, TreeNode(2), TreeNode(3))"
   ]
  },
  {
   "cell_type": "code",
   "execution_count": null,
   "metadata": {
    "collapsed": false
   },
   "outputs": [],
   "source": [
    "printTree(node)"
   ]
  },
  {
   "cell_type": "markdown",
   "metadata": {},
   "source": [
    "### 10.4-3 Print without recursive O(n) "
   ]
  },
  {
   "cell_type": "code",
   "execution_count": null,
   "metadata": {
    "collapsed": true
   },
   "outputs": [],
   "source": [
    "class TreeNode:\n",
    "    def __init__(self, key, left = None, right = None):\n",
    "        self.key = key\n",
    "        self.left = left\n",
    "        self.right = right\n",
    "def printTree2(node):\n",
    "    stack = [node]\n",
    "    while len(stack) > 0:\n",
    "        node = stack[-1]\n",
    "        del stack[-1]\n",
    "        if node is not None:\n",
    "            print node.key\n",
    "            stack.append(node.right)\n",
    "            stack.append(node.left)"
   ]
  },
  {
   "cell_type": "code",
   "execution_count": null,
   "metadata": {
    "collapsed": true
   },
   "outputs": [],
   "source": [
    "node = TreeNode(1, TreeNode(2), TreeNode(3))"
   ]
  },
  {
   "cell_type": "code",
   "execution_count": null,
   "metadata": {
    "collapsed": false
   },
   "outputs": [],
   "source": [
    "printTree2(node)"
   ]
  },
  {
   "cell_type": "markdown",
   "metadata": {},
   "source": [
    "### 10.4-4 Tree with right sibling "
   ]
  },
  {
   "cell_type": "code",
   "execution_count": 1,
   "metadata": {
    "collapsed": true
   },
   "outputs": [],
   "source": [
    "# urs/bin/env python\n",
    "# coding = utf-8\n",
    "import random\n",
    "import unittest\n",
    "\n",
    "class TreeNode:\n",
    "    def __init__(self, key, parent = None, left_child = None, right_sibling = None):\n",
    "        self.key = key\n",
    "        self.parent = parent\n",
    "        self.left_child = left_child\n",
    "        self.right_sibling = right_sibling\n",
    "\n",
    "def printTree(node):\n",
    "    if node is not None:\n",
    "        while node.parent is not None:\n",
    "            node = node.parent\n",
    "        while node is not None:\n",
    "            print node.key\n",
    "            sibling = node.right_sibling\n",
    "            while sibling is not None:\n",
    "                print sibling.key\n",
    "                sibling = sibling.right_sibling\n",
    "            node = node.left_child"
   ]
  },
  {
   "cell_type": "code",
   "execution_count": 2,
   "metadata": {
    "collapsed": false
   },
   "outputs": [
    {
     "name": "stdout",
     "output_type": "stream",
     "text": [
      "1\n",
      "2\n",
      "3\n"
     ]
    }
   ],
   "source": [
    "root = TreeNode(1)\n",
    "head = TreeNode(2, root, None, TreeNode(3))\n",
    "root.left_child = head\n",
    "printTree(head)"
   ]
  },
  {
   "cell_type": "code",
   "execution_count": null,
   "metadata": {
    "collapsed": true
   },
   "outputs": [],
   "source": []
  }
 ],
 "metadata": {
  "kernelspec": {
   "display_name": "Python 2",
   "language": "python",
   "name": "python2"
  },
  "language_info": {
   "codemirror_mode": {
    "name": "ipython",
    "version": 2
   },
   "file_extension": ".py",
   "mimetype": "text/x-python",
   "name": "python",
   "nbconvert_exporter": "python",
   "pygments_lexer": "ipython2",
   "version": "2.7.12"
  }
 },
 "nbformat": 4,
 "nbformat_minor": 2
}
