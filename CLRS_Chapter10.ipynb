{
 "cells": [
  {
   "cell_type": "markdown",
   "metadata": {},
   "source": [
    "The solutions for CLRS Chapter 10 Elementary for Data Structure"
   ]
  },
  {
   "cell_type": "markdown",
   "metadata": {},
   "source": [
    "### 10-4 A normal queue "
   ]
  },
  {
   "cell_type": "code",
   "execution_count": 108,
   "metadata": {
    "collapsed": true
   },
   "outputs": [],
   "source": [
    "class Queue:\n",
    "    def __init__(self, size):\n",
    "        self.q = [0 for _ in xrange(size)]\n",
    "        self.head = 0\n",
    "        self.tail = 0\n",
    "        self.size = size\n",
    "\n",
    "    def enqueue(self, x):\n",
    "        if (self.tail + 1) % self.size == self.head:\n",
    "            raise Exception('overflow')\n",
    "        self.q[self.tail] = x\n",
    "        print 'q.tail before enqueue', q.tail\n",
    "        self.tail += 1\n",
    "        if self.tail == self.size:\n",
    "            self.tail = 0\n",
    "        print 'q.tail after enqueue', q.tail\n",
    "        print '###'\n",
    "\n",
    "    def dequeue(self):\n",
    "        if self.head == self.tail:\n",
    "            raise Exception('underflow')\n",
    "        x = self.q[self.head]\n",
    "        print 'q.head before dequeue', q.head\n",
    "        self.head += 1\n",
    "        if self.head == self.size:\n",
    "            self.head = 0\n",
    "        print 'q.head after dequeue', q.head\n",
    "        print '###'\n",
    "        return x"
   ]
  },
  {
   "cell_type": "code",
   "execution_count": 109,
   "metadata": {
    "collapsed": false
   },
   "outputs": [
    {
     "name": "stdout",
     "output_type": "stream",
     "text": [
      "q.tail before enqueue 0\n",
      "q.tail after enqueue 1\n",
      "###\n",
      "q.tail before enqueue 1\n",
      "q.tail after enqueue 2\n",
      "###\n",
      "q.head before dequeue 0\n",
      "q.head after dequeue 1\n",
      "###\n",
      "q.tail before enqueue 2\n",
      "q.tail after enqueue 0\n",
      "###\n",
      "q.head before dequeue 1\n",
      "q.head after dequeue 2\n",
      "###\n",
      "q.tail before enqueue 0\n",
      "q.tail after enqueue 1\n",
      "###\n"
     ]
    }
   ],
   "source": [
    "q = Queue(3)\n",
    "q.enqueue(0)\n",
    "q.enqueue(1)\n",
    "q.dequeue()\n",
    "q.enqueue(2)\n",
    "q.dequeue()\n",
    "q.enqueue(3)"
   ]
  }
 ],
 "metadata": {
  "kernelspec": {
   "display_name": "Python 2",
   "language": "python",
   "name": "python2"
  },
  "language_info": {
   "codemirror_mode": {
    "name": "ipython",
    "version": 2
   },
   "file_extension": ".py",
   "mimetype": "text/x-python",
   "name": "python",
   "nbconvert_exporter": "python",
   "pygments_lexer": "ipython2",
   "version": "2.7.12"
  }
 },
 "nbformat": 4,
 "nbformat_minor": 2
}
