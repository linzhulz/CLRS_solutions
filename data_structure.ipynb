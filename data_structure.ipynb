{
 "cells": [
  {
   "cell_type": "markdown",
   "metadata": {},
   "source": [
    "## Queue"
   ]
  },
  {
   "cell_type": "code",
   "execution_count": 13,
   "metadata": {
    "collapsed": true
   },
   "outputs": [],
   "source": [
    "import numpy as np"
   ]
  },
  {
   "cell_type": "code",
   "execution_count": 16,
   "metadata": {
    "collapsed": false
   },
   "outputs": [],
   "source": [
    "#!/usr/bin/env python\n",
    "# coding=utf-8\n",
    "\n",
    "class Deque:\n",
    "\n",
    "    def __init__(self, size):\n",
    "        self.N = 0\n",
    "        self.head = 0\n",
    "        self.tail = size-1\n",
    "        self.array = [0]*size\n",
    "        self.size = size\n",
    "\n",
    "    def addFirst(self, item):\n",
    "        self.array[self.head] = item\n",
    "        self.N += 1\n",
    "        self.head = (self.head+1)%self.size\n",
    "\n",
    "    def addLast(self, item):\n",
    "        self.array[self.tail] = item\n",
    "        self.N += 1\n",
    "        self.tail = (self.tail-1)%self.size\n",
    "\n",
    "    def removeFirst(self):\n",
    "        self.N -= 1\n",
    "        self.head = (self.head-1)%self.size\n",
    "        v = self.array[self.head]\n",
    "        return v\n",
    "\n",
    "    def removeLast(self):\n",
    "        self.N -= 1\n",
    "        self.tail = (self.tail+1)%self.size\n",
    "        v = self.array[self.tail]\n",
    "        return v\n",
    "\n",
    "    def seeAll(self):\n",
    "        print self.head,self.tail,self.N\n",
    "        print self.array\n"
   ]
  },
  {
   "cell_type": "code",
   "execution_count": 17,
   "metadata": {
    "collapsed": false
   },
   "outputs": [
    {
     "name": "stdout",
     "output_type": "stream",
     "text": [
      "3 6 6\n",
      "[2, 3, 4, 0, 0, 0, 0, 6, 6, 5]\n",
      "6\n",
      "4\n"
     ]
    }
   ],
   "source": [
    "myqueue = Deque(10)\n",
    "myqueue.addFirst(2)\n",
    "myqueue.addFirst(3)\n",
    "myqueue.addFirst(4)\n",
    "myqueue.addLast(5)\n",
    "myqueue.addLast(6)\n",
    "myqueue.addLast(6)\n",
    "myqueue.seeAll()\n",
    "print myqueue.removeLast()\n",
    "print myqueue.removeFirst()"
   ]
  },
  {
   "cell_type": "code",
   "execution_count": 19,
   "metadata": {
    "collapsed": false
   },
   "outputs": [],
   "source": [
    "import random\n",
    "import unittest\n",
    "\n",
    "\n",
    "class Deque:\n",
    "    def __init__(self, size):\n",
    "        self.q = [-1 for _ in xrange(size)]\n",
    "        self.front = 0\n",
    "        self.back = 0\n",
    "\n",
    "    def push_front(self, x):\n",
    "        if (self.back + 1) % len(self.q) == self.front:\n",
    "            raise Exception('overflow')\n",
    "        self.front -= 1\n",
    "        if self.front == -1:\n",
    "            self.front = len(self.q) - 1\n",
    "        self.q[self.front] = x\n",
    "\n",
    "    def push_back(self, x):\n",
    "        if (self.back + 1) % len(self.q) == self.front:\n",
    "            raise Exception('overflow')\n",
    "        self.q[self.back] = x\n",
    "        self.back += 1\n",
    "        if self.back == len(self.q):\n",
    "            self.back = 0\n",
    "\n",
    "    def pop_front(self):\n",
    "        if self.front == self.back:\n",
    "            raise Exception('underflow')\n",
    "        x = self.q[self.front]\n",
    "        self.front += 1\n",
    "        if self.front == len(self.q):\n",
    "            self.front = 0\n",
    "        return x\n",
    "\n",
    "    def pop_back(self):\n",
    "        if self.front == self.back:\n",
    "            raise Exception('underflow')\n",
    "        self.back -= 1\n",
    "        if self.back == -1:\n",
    "            self.back = len(self.q) - 1\n",
    "        return self.q[self.back]"
   ]
  },
  {
   "cell_type": "code",
   "execution_count": 30,
   "metadata": {
    "collapsed": false
   },
   "outputs": [
    {
     "name": "stdout",
     "output_type": "stream",
     "text": [
      "None\n"
     ]
    }
   ],
   "source": [
    "myqueue = Deque(10)\n",
    "myqueue.push_front(1)\n",
    "myqueue.push_front(2)"
   ]
  },
  {
   "cell_type": "code",
   "execution_count": 29,
   "metadata": {
    "collapsed": false
   },
   "outputs": [
    {
     "name": "stdout",
     "output_type": "stream",
     "text": [
      "<__main__.Deque instance at 0x1093a3200>\n"
     ]
    }
   ],
   "source": [
    "print myqueue"
   ]
  },
  {
   "cell_type": "code",
   "execution_count": null,
   "metadata": {
    "collapsed": true
   },
   "outputs": [],
   "source": []
  }
 ],
 "metadata": {
  "kernelspec": {
   "display_name": "Python 2",
   "language": "python",
   "name": "python2"
  },
  "language_info": {
   "codemirror_mode": {
    "name": "ipython",
    "version": 2
   },
   "file_extension": ".py",
   "mimetype": "text/x-python",
   "name": "python",
   "nbconvert_exporter": "python",
   "pygments_lexer": "ipython2",
   "version": "2.7.12"
  }
 },
 "nbformat": 4,
 "nbformat_minor": 2
}
