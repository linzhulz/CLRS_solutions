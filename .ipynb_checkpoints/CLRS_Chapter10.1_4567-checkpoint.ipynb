{
 "cells": [
  {
   "cell_type": "markdown",
   "metadata": {},
   "source": [
    "The solutions for CLRS Chapter 10 Elementary for Data Structure, section1"
   ]
  },
  {
   "cell_type": "markdown",
   "metadata": {},
   "source": [
    "### 10.1-4 A normal queue "
   ]
  },
  {
   "cell_type": "code",
   "execution_count": 141,
   "metadata": {
    "collapsed": true
   },
   "outputs": [],
   "source": [
    "class Queue:\n",
    "    def __init__(self, size):\n",
    "        self.q = [0 for _ in xrange(size)]\n",
    "        self.head = 0\n",
    "        self.tail = 0\n",
    "        self.size = size\n",
    "\n",
    "    def enqueue(self, x):\n",
    "        if (self.tail + 1) % self.size == self.head:\n",
    "            raise Exception('overflow')\n",
    "        self.q[self.tail] = x\n",
    "        print 'q.tail before enqueue', q.tail\n",
    "        self.tail += 1\n",
    "        if self.tail == self.size:\n",
    "            self.tail = 0\n",
    "        print 'q.tail after enqueue', q.tail\n",
    "        print '###'\n",
    "\n",
    "    def dequeue(self):\n",
    "        if self.head == self.tail:\n",
    "            raise Exception('underflow')\n",
    "        x = self.q[self.head]\n",
    "        print 'q.head before dequeue', q.head\n",
    "        self.head += 1\n",
    "        if self.head == self.size:\n",
    "            self.head = 0\n",
    "        print 'q.head after dequeue', q.head\n",
    "        print '###'\n",
    "        return x"
   ]
  },
  {
   "cell_type": "code",
   "execution_count": 142,
   "metadata": {
    "collapsed": false
   },
   "outputs": [
    {
     "name": "stdout",
     "output_type": "stream",
     "text": [
      "q.tail before enqueue 0\n",
      "q.tail after enqueue 1\n",
      "###\n",
      "q.tail before enqueue 1\n",
      "q.tail after enqueue 2\n",
      "###\n",
      "q.head before dequeue 0\n",
      "q.head after dequeue 1\n",
      "###\n",
      "q.tail before enqueue 2\n",
      "q.tail after enqueue 0\n",
      "###\n",
      "q.head before dequeue 1\n",
      "q.head after dequeue 2\n",
      "###\n",
      "q.tail before enqueue 0\n",
      "q.tail after enqueue 1\n",
      "###\n"
     ]
    }
   ],
   "source": [
    "q = Queue(3)\n",
    "q.enqueue(0)\n",
    "q.enqueue(1)\n",
    "q.dequeue()\n",
    "q.enqueue(2)\n",
    "q.dequeue()\n",
    "q.enqueue(3)"
   ]
  },
  {
   "cell_type": "code",
   "execution_count": 145,
   "metadata": {
    "collapsed": true
   },
   "outputs": [],
   "source": [
    "class Stack:\n",
    "    def __init__(self, size):\n",
    "        self.s = [-1 for _ in xrange(size)]\n",
    "        self.top = -1\n",
    "        self.size = size\n",
    "\n",
    "    def push(self, x):\n",
    "        if self.top + 1 == self.size:\n",
    "            raise Exception('overflow')\n",
    "        print 'top before push', self.top\n",
    "        self.top += 1\n",
    "        self.s[self.top] = x\n",
    "        print 'top after push', self.top\n",
    "        print '###'\n",
    "\n",
    "    def pop(self):\n",
    "        if self.top == 0:\n",
    "            raise Exception('underflow')\n",
    "        print 'top before pop', self.top\n",
    "        x = self.s[self.top]\n",
    "        self.top -= 1\n",
    "        print 'top after pop', self.top\n",
    "        return x"
   ]
  },
  {
   "cell_type": "code",
   "execution_count": 146,
   "metadata": {
    "collapsed": false
   },
   "outputs": [
    {
     "name": "stdout",
     "output_type": "stream",
     "text": [
      "top before push -1\n",
      "top after push 0\n",
      "###\n",
      "top before push 0\n",
      "top after push 1\n",
      "###\n",
      "top before pop 1\n",
      "top after pop 0\n"
     ]
    },
    {
     "data": {
      "text/plain": [
       "2"
      ]
     },
     "execution_count": 146,
     "metadata": {},
     "output_type": "execute_result"
    }
   ],
   "source": [
    "s = Stack(3)\n",
    "s.push(1)\n",
    "s.push(2)\n",
    "s.pop()"
   ]
  },
  {
   "cell_type": "markdown",
   "metadata": {},
   "source": [
    "### 10.1-5 Deque "
   ]
  },
  {
   "cell_type": "markdown",
   "metadata": {},
   "source": [
    "This solution is enlighted by this method: http://www.geeksforgeeks.org/implementation-deque-using-circular-array/"
   ]
  },
  {
   "cell_type": "code",
   "execution_count": 219,
   "metadata": {
    "collapsed": false
   },
   "outputs": [],
   "source": [
    "class Deque:\n",
    "    def __init__(self, size):\n",
    "        self.size = size\n",
    "        self.q = [0] * size\n",
    "        self.head = -1\n",
    "        self.tail = 0\n",
    "\n",
    "    def frontAdd(self, x):\n",
    "        if (self.head - 1) % self.size == self.tail:\n",
    "            raise Exception('overflow')\n",
    "        if (self.head == -1 and self.tail == 0):\n",
    "            self.head = 0\n",
    "            self.q[self.head] = x\n",
    "        else:\n",
    "            self.head = (self.head - 1) % self.size\n",
    "            self.q[self.head] = x\n",
    "\n",
    "    def endAdd(self, x):\n",
    "        if (self.tail + 1) % self.size == self.head:\n",
    "            raise Exception('overflow')\n",
    "        if (self.head == -1 and self.tail == 0):\n",
    "            self.q[self.tail] = x\n",
    "            self.head = 0\n",
    "        else:\n",
    "            self.tail = (self.tail + 1) % self.size\n",
    "            self.q[self.tail] = x\n",
    "        \n",
    "    def frontDelete(self):\n",
    "        if (self.head == -1 and self.tail == 0):\n",
    "            raise Exception('underflow')\n",
    "        if self.head % self.size == self.tail:\n",
    "            if self.head == 0 and self.tail == 0:\n",
    "                x = self.q[self.head]\n",
    "                self.head = -1\n",
    "            else:\n",
    "                raise Exception('underflow')\n",
    "        x = self.q[self.head]\n",
    "        self.head = (self.head - 1) % self.size\n",
    "        return x\n",
    "\n",
    "    def endDelete(self):\n",
    "        if (self.head == -1 and self.tail == 0):\n",
    "            raise Exception('underflow')\n",
    "        if self.tail % self.size == self.tail:\n",
    "            if self.tail ==0 and self.head == 0:\n",
    "                x = self.q[self.tail]\n",
    "            else:\n",
    "                raise Exception('underflow')\n",
    "        x = self.q[self.tail]\n",
    "        self.tail = (self.tail + 1) % self.size\n",
    "        return x"
   ]
  },
  {
   "cell_type": "code",
   "execution_count": 227,
   "metadata": {
    "collapsed": false
   },
   "outputs": [
    {
     "ename": "Exception",
     "evalue": "underflow",
     "output_type": "error",
     "traceback": [
      "\u001b[0;31m---------------------------------------------------------------------------\u001b[0m",
      "\u001b[0;31mException\u001b[0m                                 Traceback (most recent call last)",
      "\u001b[0;32m<ipython-input-227-2f175cee829a>\u001b[0m in \u001b[0;36m<module>\u001b[0;34m()\u001b[0m\n\u001b[1;32m      3\u001b[0m \u001b[0mq1\u001b[0m\u001b[0;34m.\u001b[0m\u001b[0mfrontAdd\u001b[0m\u001b[0;34m(\u001b[0m\u001b[0;36m3\u001b[0m\u001b[0;34m)\u001b[0m\u001b[0;34m\u001b[0m\u001b[0m\n\u001b[1;32m      4\u001b[0m \u001b[0mq1\u001b[0m\u001b[0;34m.\u001b[0m\u001b[0mendAdd\u001b[0m\u001b[0;34m(\u001b[0m\u001b[0;36m2\u001b[0m\u001b[0;34m)\u001b[0m\u001b[0;34m\u001b[0m\u001b[0m\n\u001b[0;32m----> 5\u001b[0;31m \u001b[0mq1\u001b[0m\u001b[0;34m.\u001b[0m\u001b[0mendDelete\u001b[0m\u001b[0;34m(\u001b[0m\u001b[0;34m)\u001b[0m\u001b[0;34m\u001b[0m\u001b[0m\n\u001b[0m",
      "\u001b[0;32m<ipython-input-219-3f9e029ef8a0>\u001b[0m in \u001b[0;36mendDelete\u001b[0;34m(self)\u001b[0m\n\u001b[1;32m     46\u001b[0m                 \u001b[0mx\u001b[0m \u001b[0;34m=\u001b[0m \u001b[0mself\u001b[0m\u001b[0;34m.\u001b[0m\u001b[0mq\u001b[0m\u001b[0;34m[\u001b[0m\u001b[0mself\u001b[0m\u001b[0;34m.\u001b[0m\u001b[0mtail\u001b[0m\u001b[0;34m]\u001b[0m\u001b[0;34m\u001b[0m\u001b[0m\n\u001b[1;32m     47\u001b[0m             \u001b[0;32melse\u001b[0m\u001b[0;34m:\u001b[0m\u001b[0;34m\u001b[0m\u001b[0m\n\u001b[0;32m---> 48\u001b[0;31m                 \u001b[0;32mraise\u001b[0m \u001b[0mException\u001b[0m\u001b[0;34m(\u001b[0m\u001b[0;34m'underflow'\u001b[0m\u001b[0;34m)\u001b[0m\u001b[0;34m\u001b[0m\u001b[0m\n\u001b[0m\u001b[1;32m     49\u001b[0m         \u001b[0mx\u001b[0m \u001b[0;34m=\u001b[0m \u001b[0mself\u001b[0m\u001b[0;34m.\u001b[0m\u001b[0mq\u001b[0m\u001b[0;34m[\u001b[0m\u001b[0mself\u001b[0m\u001b[0;34m.\u001b[0m\u001b[0mtail\u001b[0m\u001b[0;34m]\u001b[0m\u001b[0;34m\u001b[0m\u001b[0m\n\u001b[1;32m     50\u001b[0m         \u001b[0mself\u001b[0m\u001b[0;34m.\u001b[0m\u001b[0mtail\u001b[0m \u001b[0;34m=\u001b[0m \u001b[0;34m(\u001b[0m\u001b[0mself\u001b[0m\u001b[0;34m.\u001b[0m\u001b[0mtail\u001b[0m \u001b[0;34m+\u001b[0m \u001b[0;36m1\u001b[0m\u001b[0;34m)\u001b[0m \u001b[0;34m%\u001b[0m \u001b[0mself\u001b[0m\u001b[0;34m.\u001b[0m\u001b[0msize\u001b[0m\u001b[0;34m\u001b[0m\u001b[0m\n",
      "\u001b[0;31mException\u001b[0m: underflow"
     ]
    }
   ],
   "source": [
    "q1 = Deque(3)\n",
    "q1.frontAdd(1)\n",
    "q1.frontAdd(3)\n",
    "q1.endAdd(2)\n",
    "q1.endDelete()"
   ]
  },
  {
   "cell_type": "code",
   "execution_count": 201,
   "metadata": {
    "collapsed": true
   },
   "outputs": [],
   "source": [
    "'''\n",
    "An clear methods with longer operating time\n",
    "'''\n",
    "class Deque:\n",
    "    def __init__(self):\n",
    "        self.items = []\n",
    "\n",
    "    def isEmpty(self):\n",
    "        return self.items == []\n",
    "\n",
    "    def addFront(self, item):\n",
    "        self.items.append(item)\n",
    "\n",
    "    def addRear(self, item):\n",
    "        self.items.insert(0,item)\n",
    "\n",
    "    def removeFront(self):\n",
    "        return self.items.pop()\n",
    "\n",
    "    def removeRear(self):\n",
    "        return self.items.pop(0)\n",
    "\n",
    "    def size(self):\n",
    "        return len(self.items)"
   ]
  },
  {
   "cell_type": "code",
   "execution_count": 202,
   "metadata": {
    "collapsed": true
   },
   "outputs": [],
   "source": [
    "q = Deque()"
   ]
  },
  {
   "cell_type": "code",
   "execution_count": 204,
   "metadata": {
    "collapsed": false
   },
   "outputs": [
    {
     "name": "stdout",
     "output_type": "stream",
     "text": [
      "[3, 1, 2]\n"
     ]
    }
   ],
   "source": [
    "a = [1, 2]\n",
    "a.insert(0,3)\n",
    "print a"
   ]
  },
  {
   "cell_type": "code",
   "execution_count": null,
   "metadata": {
    "collapsed": true
   },
   "outputs": [],
   "source": []
  }
 ],
 "metadata": {
  "kernelspec": {
   "display_name": "Python 2",
   "language": "python",
   "name": "python2"
  },
  "language_info": {
   "codemirror_mode": {
    "name": "ipython",
    "version": 2
   },
   "file_extension": ".py",
   "mimetype": "text/x-python",
   "name": "python",
   "nbconvert_exporter": "python",
   "pygments_lexer": "ipython2",
   "version": "2.7.12"
  }
 },
 "nbformat": 4,
 "nbformat_minor": 2
}
